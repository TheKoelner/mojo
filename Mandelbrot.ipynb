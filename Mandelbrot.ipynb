{
 "cells": [
  {
   "cell_type": "code",
   "execution_count": null,
   "metadata": {},
   "outputs": [],
   "source": [
    "import benchmark\n",
    "from complex import ComplexSIMD, ComplexFloat64\n",
    "from math import iota\n",
    "from python import Python\n",
    "from runtime.llcl import num_cores\n",
    "from algorithm import parallelize, vectorize\n",
    "from tensor import Tensor\n",
    "from utils.index import Index\n",
    "\n",
    "alias float_type = DType.float64\n",
    "alias simd_width = 2 * simdwidthof[float_type]()"
   ]
  },
  {
   "cell_type": "code",
   "execution_count": null,
   "metadata": {},
   "outputs": [],
   "source": [
    "alias width = 960\n",
    "alias height = 960\n",
    "alias MAX_ITERS = 200\n",
    "\n",
    "alias min_x = -2.0\n",
    "alias max_x = 0.6\n",
    "alias min_y = -1.5\n",
    "alias max_y = 1.5"
   ]
  },
  {
   "cell_type": "code",
   "execution_count": null,
   "metadata": {},
   "outputs": [],
   "source": [
    "# Compute the number of steps to escape.\n",
    "def mandelbrot_kernel(c: ComplexFloat64) -> Int:\n",
    "    z = c\n",
    "    for i in range(MAX_ITERS):\n",
    "        z = z * z + c\n",
    "        if z.squared_norm() > 4:\n",
    "            return i\n",
    "    return MAX_ITERS\n",
    "\n",
    "\n",
    "def compute_mandelbrot() -> Tensor[float_type]:\n",
    "    # create a matrix. Each element of the matrix corresponds to a pixel\n",
    "    t = Tensor[float_type](height, width)\n",
    "\n",
    "    dx = (max_x - min_x) / width\n",
    "    dy = (max_y - min_y) / height\n",
    "\n",
    "    y = min_y\n",
    "    for row in range(height):\n",
    "        x = min_x\n",
    "        for col in range(width):\n",
    "            t[Index(row, col)] = mandelbrot_kernel(ComplexFloat64(x, y))\n",
    "            x += dx\n",
    "        y += dy\n",
    "    return t"
   ]
  },
  {
   "cell_type": "code",
   "execution_count": null,
   "metadata": {},
   "outputs": [],
   "source": [
    "%%python\n",
    "from importlib.util import find_spec\n",
    "import shutil\n",
    "import subprocess\n",
    "\n",
    "fix = \"\"\"\n",
    "-------------------------------------------------------------------------\n",
    "fix following the steps here:\n",
    "    https://github.com/modularml/mojo/issues/1085#issuecomment-1771403719\n",
    "-------------------------------------------------------------------------\n",
    "\"\"\"\n",
    "\n",
    "def install_if_missing(name: str):\n",
    "    if find_spec(name):\n",
    "        return\n",
    "\n",
    "    print(f\"{name} not found, installing...\")\n",
    "    try:\n",
    "        if shutil.which('python3'): python = \"python3\"\n",
    "        elif shutil.which('python'): python = \"python\"\n",
    "        else: raise (\"python not on path\" + fix)\n",
    "        subprocess.check_call([python, \"-m\", \"pip\", \"install\", name])\n",
    "    except:\n",
    "        raise ImportError(f\"{name} not found\" + fix)\n",
    "\n",
    "install_if_missing(\"numpy\")\n",
    "install_if_missing(\"matplotlib\")"
   ]
  },
  {
   "cell_type": "code",
   "execution_count": null,
   "metadata": {},
   "outputs": [],
   "source": [
    "def show_plot(tensor: Tensor[float_type]):\n",
    "    alias scale = 10\n",
    "    alias dpi = 64\n",
    "\n",
    "    np = Python.import_module(\"numpy\")\n",
    "    plt = Python.import_module(\"matplotlib.pyplot\")\n",
    "    colors = Python.import_module(\"matplotlib.colors\")\n",
    "\n",
    "    numpy_array = np.zeros((height, width), np.float64)\n",
    "\n",
    "    for row in range(height):\n",
    "        for col in range(width):\n",
    "            numpy_array.itemset((col, row), tensor[col, row])\n",
    "\n",
    "    fig = plt.figure(1, [scale, scale * height // width], dpi)\n",
    "    ax = fig.add_axes([0.0, 0.0, 1.0, 1.0], False, 1)\n",
    "    light = colors.LightSource(315, 10, 0, 1, 1, 0)\n",
    "\n",
    "    image = light.shade(numpy_array, plt.cm.hot, colors.PowerNorm(0.3), \"hsv\", 0, 0, 1.5)\n",
    "    plt.imshow(image)\n",
    "    plt.axis(\"off\")\n",
    "    plt.show()\n",
    "\n",
    "show_plot(compute_mandelbrot())"
   ]
  }
 ],
 "metadata": {
  "language_info": {
   "name": "python"
  }
 },
 "nbformat": 4,
 "nbformat_minor": 2
}
